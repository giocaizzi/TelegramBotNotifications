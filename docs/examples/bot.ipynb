{
 "cells": [
  {
   "cell_type": "markdown",
   "metadata": {},
   "source": [
    "# Telegram Bot"
   ]
  },
  {
   "cell_type": "code",
   "execution_count": 1,
   "metadata": {},
   "outputs": [],
   "source": [
    "%load_ext autoreload\n",
    "%autoreload 2\n",
    "from TelegramBotNotifications import TelegramBot\n",
    "import decouple"
   ]
  },
  {
   "cell_type": "code",
   "execution_count": 2,
   "metadata": {},
   "outputs": [
    {
     "name": "stdout",
     "output_type": "stream",
     "text": [
      "### TELEGRAM BOT\n",
      "# Checking new users\n",
      "No new users.\n"
     ]
    }
   ],
   "source": [
    "t=TelegramBot(\n",
    "    #this is the API token, string\n",
    "    decouple.config(\"TELEGRAM_TOKEN\"),\n",
    "    channel_mode=True,\n",
    "    users_path=\"../../../telegram_users.csv\")"
   ]
  },
  {
   "cell_type": "code",
   "execution_count": 3,
   "metadata": {},
   "outputs": [
    {
     "data": {
      "text/html": [
       "<div>\n",
       "<style scoped>\n",
       "    .dataframe tbody tr th:only-of-type {\n",
       "        vertical-align: middle;\n",
       "    }\n",
       "\n",
       "    .dataframe tbody tr th {\n",
       "        vertical-align: top;\n",
       "    }\n",
       "\n",
       "    .dataframe thead th {\n",
       "        text-align: right;\n",
       "    }\n",
       "</style>\n",
       "<table border=\"1\" class=\"dataframe\">\n",
       "  <thead>\n",
       "    <tr style=\"text-align: right;\">\n",
       "      <th></th>\n",
       "      <th>username</th>\n",
       "      <th>date</th>\n",
       "      <th>chat_id</th>\n",
       "      <th>message</th>\n",
       "    </tr>\n",
       "  </thead>\n",
       "  <tbody>\n",
       "    <tr>\n",
       "      <th>0</th>\n",
       "      <td>None</td>\n",
       "      <td>2022-03-30 17:19:52+00:00</td>\n",
       "      <td>5055308345</td>\n",
       "      <td>F72LEZ5UEC</td>\n",
       "    </tr>\n",
       "    <tr>\n",
       "      <th>1</th>\n",
       "      <td>None</td>\n",
       "      <td>2022-03-30 17:19:53+00:00</td>\n",
       "      <td>5055308345</td>\n",
       "      <td>C64KMDK6HB</td>\n",
       "    </tr>\n",
       "    <tr>\n",
       "      <th>2</th>\n",
       "      <td>None</td>\n",
       "      <td>2022-03-30 17:19:55+00:00</td>\n",
       "      <td>5055308345</td>\n",
       "      <td>RMOAQOA2GE</td>\n",
       "    </tr>\n",
       "    <tr>\n",
       "      <th>3</th>\n",
       "      <td>None</td>\n",
       "      <td>2022-03-30 17:22:36+00:00</td>\n",
       "      <td>5055308345</td>\n",
       "      <td>XA8JEZUAJK</td>\n",
       "    </tr>\n",
       "    <tr>\n",
       "      <th>4</th>\n",
       "      <td>None</td>\n",
       "      <td>2022-03-30 17:22:39+00:00</td>\n",
       "      <td>5055308345</td>\n",
       "      <td>KR4PK9NYEB</td>\n",
       "    </tr>\n",
       "  </tbody>\n",
       "</table>\n",
       "</div>"
      ],
      "text/plain": [
       "  username                      date     chat_id     message\n",
       "0     None 2022-03-30 17:19:52+00:00  5055308345  F72LEZ5UEC\n",
       "1     None 2022-03-30 17:19:53+00:00  5055308345  C64KMDK6HB\n",
       "2     None 2022-03-30 17:19:55+00:00  5055308345  RMOAQOA2GE\n",
       "3     None 2022-03-30 17:22:36+00:00  5055308345  XA8JEZUAJK\n",
       "4     None 2022-03-30 17:22:39+00:00  5055308345  KR4PK9NYEB"
      ]
     },
     "execution_count": 3,
     "metadata": {},
     "output_type": "execute_result"
    }
   ],
   "source": [
    "t.updates"
   ]
  },
  {
   "cell_type": "code",
   "execution_count": 4,
   "metadata": {},
   "outputs": [
    {
     "data": {
      "text/html": [
       "<div>\n",
       "<style scoped>\n",
       "    .dataframe tbody tr th:only-of-type {\n",
       "        vertical-align: middle;\n",
       "    }\n",
       "\n",
       "    .dataframe tbody tr th {\n",
       "        vertical-align: top;\n",
       "    }\n",
       "\n",
       "    .dataframe thead th {\n",
       "        text-align: right;\n",
       "    }\n",
       "</style>\n",
       "<table border=\"1\" class=\"dataframe\">\n",
       "  <thead>\n",
       "    <tr style=\"text-align: right;\">\n",
       "      <th></th>\n",
       "      <th>chat_id</th>\n",
       "      <th>username</th>\n",
       "      <th>date_joined</th>\n",
       "    </tr>\n",
       "  </thead>\n",
       "  <tbody>\n",
       "    <tr>\n",
       "      <th>0</th>\n",
       "      <td>5055308345</td>\n",
       "      <td>admin</td>\n",
       "      <td>2022-02-06 21:55:54+00:00</td>\n",
       "    </tr>\n",
       "  </tbody>\n",
       "</table>\n",
       "</div>"
      ],
      "text/plain": [
       "      chat_id username               date_joined\n",
       "0  5055308345    admin 2022-02-06 21:55:54+00:00"
      ]
     },
     "execution_count": 4,
     "metadata": {},
     "output_type": "execute_result"
    }
   ],
   "source": [
    "t.users"
   ]
  },
  {
   "cell_type": "code",
   "execution_count": 5,
   "metadata": {},
   "outputs": [],
   "source": [
    "t.send_message_to_user(\"ciao\",\"admin\")"
   ]
  },
  {
   "cell_type": "code",
   "execution_count": 6,
   "metadata": {},
   "outputs": [
    {
     "name": "stdout",
     "output_type": "stream",
     "text": [
      "UserNotFoundError\n"
     ]
    }
   ],
   "source": [
    "t.send_message_to_user(\"ciao\",\"addmin\")"
   ]
  },
  {
   "cell_type": "code",
   "execution_count": 7,
   "metadata": {},
   "outputs": [
    {
     "name": "stdout",
     "output_type": "stream",
     "text": [
      "SendPhotoError\n"
     ]
    }
   ],
   "source": [
    "t.send_photo(\"../temp/ADA_20220201-214758.jpeg\",888418315)"
   ]
  },
  {
   "cell_type": "code",
   "execution_count": 8,
   "metadata": {},
   "outputs": [
    {
     "data": {
      "text/plain": [
       "[{'error': 'UserNotFoundError', 'e': KeyError('addmin')},\n",
       " {'error': 'SendPhotoError',\n",
       "  'e': FileNotFoundError(2, 'No such file or directory')}]"
      ]
     },
     "execution_count": 8,
     "metadata": {},
     "output_type": "execute_result"
    }
   ],
   "source": [
    "t.error_log"
   ]
  }
 ],
 "metadata": {
  "interpreter": {
   "hash": "2e02a164808c41417adc12155d25fe4bbfd713e61a4a1963afc9ad34588db99f"
  },
  "kernelspec": {
   "display_name": "Python 3.7.11 64-bit ('crypto': conda)",
   "name": "python3"
  },
  "language_info": {
   "codemirror_mode": {
    "name": "ipython",
    "version": 3
   },
   "file_extension": ".py",
   "mimetype": "text/x-python",
   "name": "python",
   "nbconvert_exporter": "python",
   "pygments_lexer": "ipython3",
   "version": "3.7.12"
  }
 },
 "nbformat": 4,
 "nbformat_minor": 2
}
